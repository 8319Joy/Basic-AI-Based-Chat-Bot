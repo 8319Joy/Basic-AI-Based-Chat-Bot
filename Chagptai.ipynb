{
 "cells": [
  {
   "cell_type": "raw",
   "id": "03d57241",
   "metadata": {},
   "source": [
    "Creating an AI-based software application using Python can be achieved via various libraries and frameworks. A real-time example can be a simple chatbot using Natural Language Processing (NLP) techniques. Below, I'll guide you through building a basic chatbot using Python with the help of the nltk (Natural Language Toolkit) and flask for web deployment. We'll build a console-based chatbot for demonstration purposes, and I'll provide sample outputs."
   ]
  },
  {
   "cell_type": "markdown",
   "id": "7fe8375a",
   "metadata": {},
   "source": [
    "# Steps to Develop an AI Chatbot in Python"
   ]
  },
  {
   "cell_type": "markdown",
   "id": "6d55f70a",
   "metadata": {},
   "source": [
    "01.Install Required Libraries\n",
    "Make sure you have Python installed on your machine and install the required libraries using pip if you haven't already:"
   ]
  },
  {
   "cell_type": "code",
   "execution_count": null,
   "id": "31eab28e",
   "metadata": {},
   "outputs": [],
   "source": [
    "pip install nltk flask"
   ]
  },
  {
   "cell_type": "markdown",
   "id": "f423cf1a",
   "metadata": {},
   "source": [
    "# 02.Import Libraries\n",
    "Begin by importing the necessary libraries:"
   ]
  },
  {
   "cell_type": "code",
   "execution_count": null,
   "id": "e9efa0bf",
   "metadata": {},
   "outputs": [],
   "source": [
    "import nltk\n",
    "from nltk.chat.util import Chat, reflections"
   ]
  },
  {
   "cell_type": "markdown",
   "id": "cd0af506",
   "metadata": {},
   "source": [
    "# 03.Define Pairs for Chatbot\n",
    "Create a list of patterns and responses. Each entry consists of a pattern (regular expression) and a list of corresponding responses."
   ]
  },
  {
   "cell_type": "code",
   "execution_count": null,
   "id": "565a0866",
   "metadata": {},
   "outputs": [],
   "source": [
    "pairs = [\n",
    "    [\n",
    "        r\"my name is (.*)\",\n",
    "        [\"Hello %1, how can I help you today?\",]\n",
    "    ],\n",
    "    [\n",
    "        r\"hi|hello|hey\",\n",
    "        [\"Hello!\", \"Hi there!\", \"Hey! How can I assist you?\"]\n",
    "    ],\n",
    "    [\n",
    "        r\"how are you?\",\n",
    "        [\"I'm good, thank you!\", \"I'm doing well, how about you?\"]\n",
    "    ],\n",
    "    [\n",
    "        r\"quit\",\n",
    "        [\"Thank you for chatting with me. Goodbye!\"]\n",
    "    ],\n",
    "    [\n",
    "        r\"(.*) your name?\",\n",
    "        [\"I am a chatbot created by DeepAI.\",]\n",
    "    ],\n",
    "    [\n",
    "        r\"(.*) (location|city) ?\",\n",
    "        ['I am based on the internet, so I exist everywhere!',]\n",
    "    ],\n",
    "    [\n",
    "        r\"what is (.*)\",\n",
    "        [\"I don't know what %1 is, but it's interesting!\",]\n",
    "    ],\n",
    "    [\n",
    "        r\"(.*)\",\n",
    "        [\"I'm sorry, I don't understand that.\",]\n",
    "    ]\n",
    "]"
   ]
  },
  {
   "cell_type": "markdown",
   "id": "eefa2352",
   "metadata": {},
   "source": [
    "# 04.Create the Chatbot Class\n",
    "Now, create a function that initializes the Chat class with the defined pairs."
   ]
  },
  {
   "cell_type": "code",
   "execution_count": null,
   "id": "ab23055f",
   "metadata": {},
   "outputs": [],
   "source": [
    "def chatbot():\n",
    "    print(\"Hi! I'm a chatbot. Type 'quit' to exit.\")\n",
    "    chat = Chat(pairs, reflections)\n",
    "    chat.converse()"
   ]
  },
  {
   "cell_type": "markdown",
   "id": "448a8a34",
   "metadata": {},
   "source": [
    "# 05 Run the Chatbot\n",
    "Call the chatbot function to start interacting."
   ]
  },
  {
   "cell_type": "code",
   "execution_count": null,
   "id": "fb238154",
   "metadata": {},
   "outputs": [],
   "source": [
    "if __name__ == \"__main__\":\n",
    "    nltk.download('punkt')  # Download the necessary tokenizer\n",
    "    chatbot()"
   ]
  },
  {
   "cell_type": "markdown",
   "id": "36b02cda",
   "metadata": {},
   "source": [
    "# 06.Complete Code\n",
    "Here’s the complete code for your simple chatbot:"
   ]
  },
  {
   "cell_type": "code",
   "execution_count": null,
   "id": "c991da70",
   "metadata": {},
   "outputs": [
    {
     "name": "stderr",
     "output_type": "stream",
     "text": [
      "[nltk_data] Downloading package punkt to C:\\Users\\PURNANGSHU\n",
      "[nltk_data]     ROY\\AppData\\Roaming\\nltk_data...\n",
      "[nltk_data]   Package punkt is already up-to-date!\n"
     ]
    },
    {
     "name": "stdout",
     "output_type": "stream",
     "text": [
      "Hi! I'm a chatbot. Type 'quit' to exit.\n",
      ">Hi\n",
      "Hey! How can I assist you?\n",
      ">How are You?\n",
      "I'm doing well, how about you?\n",
      "> I am Good \n",
      "I'm sorry, I don't understand that.\n",
      ">What is Chat Bot?\n",
      "I don't know what chat bot? is, but it's interesting!\n",
      ">What is Chatbot?\n",
      "I don't know what chatbot? is, but it's interesting!\n",
      ">What is Your name?\n",
      "I am a chatbot created by DeepAI.\n"
     ]
    }
   ],
   "source": [
    "import nltk\n",
    "from nltk.chat.util import Chat, reflections\n",
    "\n",
    "pairs = [\n",
    "    [r\"my name is (.*)\", [\"Hello %1, how can I help you today?\"]],\n",
    "    [r\"hi|hello|hey\", [\"Hello!\", \"Hi there!\", \"Hey! How can I assist you?\"]],\n",
    "    [r\"how are you?\", [\"I'm good, thank you!\", \"I'm doing well, how about you?\"]],\n",
    "    [r\"quit\", [\"Thank you for chatting with me. Goodbye!\"]],\n",
    "    [r\"(.*) your name?\", [\"I am a chatbot created by DeepAI.\"]],\n",
    "    [r\"(.*) (location|city) ?\", ['I am based on the internet, so I exist everywhere!']],\n",
    "    [r\"what is (.*)\", [\"I don't know what %1 is, but it's interesting!\"]],\n",
    "    [r\"(.*)\", [\"I'm sorry, I don't understand that.\"]],\n",
    "]\n",
    "\n",
    "def chatbot():\n",
    "    print(\"Hi! I'm a chatbot. Type 'quit' to exit.\")\n",
    "    chat = Chat(pairs, reflections)\n",
    "    chat.converse()\n",
    "\n",
    "if __name__ == \"__main__\":\n",
    "    nltk.download('punkt')\n",
    "    chatbot()"
   ]
  },
  {
   "cell_type": "markdown",
   "id": "0a751781",
   "metadata": {},
   "source": [
    "# Conclusions\n",
    "This is a basic implementation of an AI-based chatbot using Python. You can expand upon it by integrating with APIs, adding more complex NLP capabilities using libraries like spaCy, or implementing machine learning models with frameworks like TensorFlow or PyTorch for more advanced features. This sets a foundational understanding for developing AI-based applications in Python."
   ]
  },
  {
   "cell_type": "code",
   "execution_count": null,
   "id": "11011894",
   "metadata": {},
   "outputs": [],
   "source": []
  }
 ],
 "metadata": {
  "kernelspec": {
   "display_name": "Python 3 (ipykernel)",
   "language": "python",
   "name": "python3"
  },
  "language_info": {
   "codemirror_mode": {
    "name": "ipython",
    "version": 3
   },
   "file_extension": ".py",
   "mimetype": "text/x-python",
   "name": "python",
   "nbconvert_exporter": "python",
   "pygments_lexer": "ipython3",
   "version": "3.11.4"
  }
 },
 "nbformat": 4,
 "nbformat_minor": 5
}
